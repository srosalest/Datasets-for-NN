{
 "cells": [
  {
   "cell_type": "code",
   "execution_count": 1,
   "metadata": {},
   "outputs": [
    {
     "name": "stderr",
     "output_type": "stream",
     "text": [
      "Using TensorFlow backend.\n"
     ]
    }
   ],
   "source": [
    "import tensorflow as tf\n",
    "import numpy as np\n",
    "import pandas as pd\n",
    "import os\n",
    "from tensorflow import keras\n",
    "from keras.models import Sequential\n",
    "from keras.layers import Conv2D, Conv1D\n",
    "from keras.layers import MaxPooling2D, MaxPooling1D\n",
    "from keras.layers import Flatten\n",
    "from keras.layers import Dense\n",
    "from keras.layers import Activation\n",
    "from keras.layers import Dropout\n",
    "from keras.layers import BatchNormalization\n",
    "from keras.preprocessing.image import ImageDataGenerator, array_to_img, img_to_array, load_img\n",
    "from sklearn.model_selection import train_test_split\n",
    "from sklearn.metrics import classification_report\n",
    "\n",
    "import cv2\n",
    "from matplotlib import pyplot as plt\n",
    "import matplotlib.image as mpimg\n",
    "\n",
    "from keras.applications.xception import Xception\n",
    "from keras.applications.vgg16 import VGG16\n",
    "from keras.applications.inception_resnet_v2 import InceptionResNetV2\n",
    "from keras.models import Model\n",
    "from keras.callbacks import EarlyStopping\n",
    "from sklearn.metrics import classification_report\n",
    "from keras.models import load_model"
   ]
  },
  {
   "cell_type": "code",
   "execution_count": 2,
   "metadata": {},
   "outputs": [],
   "source": [
    "fashion_mnist = keras.datasets.fashion_mnist\n",
    "\n",
    "(train_images, train_labels), (test_images, test_labels) = fashion_mnist.load_data()"
   ]
  },
  {
   "cell_type": "code",
   "execution_count": 3,
   "metadata": {},
   "outputs": [],
   "source": [
    "class_names = ['T-shirt/top', 'Trouser', 'Pullover', 'Dress', 'Coat',\n",
    "               'Sandal', 'Shirt', 'Sneaker', 'Bag', 'Ankle boot']\n",
    "\n",
    "train_final_labels = np.zeros((train_labels.size, train_labels.max()+1))\n",
    "train_final_labels[np.arange(train_labels.size),train_labels] = 1\n",
    "\n",
    "test_final_labels = np.zeros((test_labels.size, test_labels.max()+1))\n",
    "test_final_labels[np.arange(test_labels.size),test_labels] = 1"
   ]
  },
  {
   "cell_type": "code",
   "execution_count": 4,
   "metadata": {},
   "outputs": [],
   "source": [
    "train_images = train_images / 255.0\n",
    "test_images = test_images / 255.0"
   ]
  },
  {
   "cell_type": "code",
   "execution_count": 5,
   "metadata": {},
   "outputs": [],
   "source": [
    "#reshape (28,28,1)\n",
    "final_train_images = []\n",
    "for index in range(0, len(train_images)):\n",
    "    final_train_images.append(train_images[index].reshape((28,28,1)))\n",
    "final_train_images = np.array(final_train_images)    \n",
    "\n",
    "test_final_images = []\n",
    "for index in range(0, len(test_images)):\n",
    "    test_final_images.append(test_images[index].reshape((28,28,1)))\n",
    "test_final_images = np.array(test_final_images)    \n",
    "\n",
    "\n",
    "X_test, X_val, Y_test, Y_val = train_test_split(test_final_images, test_final_labels, test_size = 0.1, random_state = 2)"
   ]
  },
  {
   "cell_type": "code",
   "execution_count": 6,
   "metadata": {
    "scrolled": true
   },
   "outputs": [
    {
     "name": "stdout",
     "output_type": "stream",
     "text": [
      "Model: \"sequential_1\"\n",
      "_________________________________________________________________\n",
      "Layer (type)                 Output Shape              Param #   \n",
      "=================================================================\n",
      "conv2d_1 (Conv2D)            (None, 24, 24, 3)         78        \n",
      "_________________________________________________________________\n",
      "max_pooling2d_1 (MaxPooling2 (None, 12, 12, 3)         0         \n",
      "_________________________________________________________________\n",
      "conv2d_2 (Conv2D)            (None, 8, 8, 9)           684       \n",
      "_________________________________________________________________\n",
      "max_pooling2d_2 (MaxPooling2 (None, 4, 4, 9)           0         \n",
      "_________________________________________________________________\n",
      "flatten_1 (Flatten)          (None, 144)               0         \n",
      "_________________________________________________________________\n",
      "dropout_1 (Dropout)          (None, 144)               0         \n",
      "_________________________________________________________________\n",
      "dense_1 (Dense)              (None, 128)               18560     \n",
      "_________________________________________________________________\n",
      "dense_2 (Dense)              (None, 64)                8256      \n",
      "_________________________________________________________________\n",
      "dense_3 (Dense)              (None, 32)                2080      \n",
      "_________________________________________________________________\n",
      "dense_4 (Dense)              (None, 10)                330       \n",
      "=================================================================\n",
      "Total params: 29,988\n",
      "Trainable params: 29,988\n",
      "Non-trainable params: 0\n",
      "_________________________________________________________________\n"
     ]
    }
   ],
   "source": [
    "model = Sequential()\n",
    "model.add(Conv2D(3,5,activation='relu', input_shape = (28,28,1)))\n",
    "model.add(MaxPooling2D(pool_size=(2,2)))\n",
    "model.add(Conv2D(9,5,activation='relu',input_shape = (12,12,3)))\n",
    "model.add(MaxPooling2D(pool_size=(2,2)))\n",
    "model.add(Flatten())\n",
    "model.add(Dropout(0.3))\n",
    "model.add(Dense(128, activation='relu'))\n",
    "model.add(Dense(64, activation='relu'))\n",
    "model.add(Dense(32, activation='relu'))\n",
    "model.add(Dense(10, activation='softmax'))\n",
    "\n",
    "model.summary()"
   ]
  },
  {
   "cell_type": "code",
   "execution_count": 7,
   "metadata": {},
   "outputs": [],
   "source": [
    "model.compile(optimizer='adagrad', loss='categorical_crossentropy', metrics=['accuracy'])"
   ]
  },
  {
   "cell_type": "code",
   "execution_count": 8,
   "metadata": {},
   "outputs": [],
   "source": [
    "batch_size = 32\n",
    "epochs = 100"
   ]
  },
  {
   "cell_type": "code",
   "execution_count": 9,
   "metadata": {
    "scrolled": true
   },
   "outputs": [
    {
     "name": "stdout",
     "output_type": "stream",
     "text": [
      "Train on 60000 samples, validate on 9000 samples\n",
      "Epoch 1/100\n",
      "60000/60000 [==============================] - 9s 142us/step - loss: 0.6645 - accuracy: 0.7534 - val_loss: 0.5224 - val_accuracy: 0.8063\n",
      "Epoch 2/100\n",
      "60000/60000 [==============================] - 7s 120us/step - loss: 0.5282 - accuracy: 0.8044 - val_loss: 0.4835 - val_accuracy: 0.8217\n",
      "Epoch 3/100\n",
      "60000/60000 [==============================] - 7s 118us/step - loss: 0.4987 - accuracy: 0.8159 - val_loss: 0.4612 - val_accuracy: 0.8286\n",
      "Epoch 4/100\n",
      "60000/60000 [==============================] - 7s 118us/step - loss: 0.4805 - accuracy: 0.8224 - val_loss: 0.4431 - val_accuracy: 0.8380\n",
      "Epoch 5/100\n",
      "60000/60000 [==============================] - 7s 119us/step - loss: 0.4714 - accuracy: 0.8250 - val_loss: 0.4326 - val_accuracy: 0.8418\n",
      "Epoch 6/100\n",
      "60000/60000 [==============================] - 7s 118us/step - loss: 0.4578 - accuracy: 0.8304 - val_loss: 0.4241 - val_accuracy: 0.8459\n",
      "Epoch 7/100\n",
      "60000/60000 [==============================] - 7s 119us/step - loss: 0.4495 - accuracy: 0.8339 - val_loss: 0.4181 - val_accuracy: 0.8468\n",
      "Epoch 8/100\n",
      "60000/60000 [==============================] - 7s 118us/step - loss: 0.4411 - accuracy: 0.8355 - val_loss: 0.4140 - val_accuracy: 0.8507\n",
      "Epoch 9/100\n",
      "60000/60000 [==============================] - 7s 117us/step - loss: 0.4355 - accuracy: 0.8382 - val_loss: 0.4064 - val_accuracy: 0.8510\n",
      "Epoch 10/100\n",
      "60000/60000 [==============================] - 7s 118us/step - loss: 0.4316 - accuracy: 0.8410 - val_loss: 0.4027 - val_accuracy: 0.8512\n",
      "Epoch 11/100\n",
      "60000/60000 [==============================] - 7s 120us/step - loss: 0.4245 - accuracy: 0.8419 - val_loss: 0.3976 - val_accuracy: 0.8533\n",
      "Epoch 12/100\n",
      "60000/60000 [==============================] - 7s 118us/step - loss: 0.4218 - accuracy: 0.8418 - val_loss: 0.3953 - val_accuracy: 0.8549\n",
      "Epoch 13/100\n",
      "60000/60000 [==============================] - 7s 118us/step - loss: 0.4162 - accuracy: 0.8445 - val_loss: 0.3928 - val_accuracy: 0.8574\n",
      "Epoch 14/100\n",
      "60000/60000 [==============================] - 7s 119us/step - loss: 0.4154 - accuracy: 0.8456 - val_loss: 0.3899 - val_accuracy: 0.8528\n",
      "Epoch 15/100\n",
      "60000/60000 [==============================] - 7s 120us/step - loss: 0.4107 - accuracy: 0.8481 - val_loss: 0.3895 - val_accuracy: 0.8599\n",
      "Epoch 16/100\n",
      "60000/60000 [==============================] - 7s 118us/step - loss: 0.4081 - accuracy: 0.8494 - val_loss: 0.3850 - val_accuracy: 0.8603\n",
      "Epoch 17/100\n",
      "60000/60000 [==============================] - 7s 117us/step - loss: 0.4062 - accuracy: 0.8492 - val_loss: 0.3846 - val_accuracy: 0.8594\n",
      "Epoch 18/100\n",
      "60000/60000 [==============================] - 7s 118us/step - loss: 0.4019 - accuracy: 0.8509 - val_loss: 0.3820 - val_accuracy: 0.8588\n",
      "Epoch 19/100\n",
      "60000/60000 [==============================] - 7s 118us/step - loss: 0.3978 - accuracy: 0.8521 - val_loss: 0.3799 - val_accuracy: 0.8590\n",
      "Epoch 20/100\n",
      "60000/60000 [==============================] - 7s 118us/step - loss: 0.3967 - accuracy: 0.8531 - val_loss: 0.3771 - val_accuracy: 0.8626\n",
      "Epoch 21/100\n",
      "60000/60000 [==============================] - 7s 118us/step - loss: 0.3945 - accuracy: 0.8529 - val_loss: 0.3763 - val_accuracy: 0.8614\n",
      "Epoch 22/100\n",
      "60000/60000 [==============================] - 7s 117us/step - loss: 0.3949 - accuracy: 0.8527 - val_loss: 0.3743 - val_accuracy: 0.8624\n",
      "Epoch 23/100\n",
      "60000/60000 [==============================] - 7s 118us/step - loss: 0.3917 - accuracy: 0.8550 - val_loss: 0.3724 - val_accuracy: 0.8628\n",
      "Epoch 24/100\n",
      "60000/60000 [==============================] - 7s 119us/step - loss: 0.3923 - accuracy: 0.8546 - val_loss: 0.3731 - val_accuracy: 0.8623\n",
      "Epoch 25/100\n",
      "60000/60000 [==============================] - 7s 119us/step - loss: 0.3907 - accuracy: 0.8539 - val_loss: 0.3690 - val_accuracy: 0.8647\n",
      "Epoch 26/100\n",
      "60000/60000 [==============================] - 7s 116us/step - loss: 0.3887 - accuracy: 0.8549 - val_loss: 0.3710 - val_accuracy: 0.8637\n",
      "Epoch 27/100\n",
      "60000/60000 [==============================] - 7s 118us/step - loss: 0.3873 - accuracy: 0.8540 - val_loss: 0.3693 - val_accuracy: 0.8638\n",
      "Epoch 28/100\n",
      "60000/60000 [==============================] - 7s 119us/step - loss: 0.3826 - accuracy: 0.8568 - val_loss: 0.3660 - val_accuracy: 0.8661\n",
      "Epoch 29/100\n",
      "60000/60000 [==============================] - 7s 117us/step - loss: 0.3832 - accuracy: 0.8567 - val_loss: 0.3651 - val_accuracy: 0.8666\n",
      "Epoch 30/100\n",
      "60000/60000 [==============================] - 7s 117us/step - loss: 0.3828 - accuracy: 0.8575 - val_loss: 0.3644 - val_accuracy: 0.8661\n",
      "Epoch 31/100\n",
      "60000/60000 [==============================] - 7s 117us/step - loss: 0.3809 - accuracy: 0.8591 - val_loss: 0.3654 - val_accuracy: 0.8660\n",
      "Epoch 32/100\n",
      "60000/60000 [==============================] - 7s 116us/step - loss: 0.3797 - accuracy: 0.8585 - val_loss: 0.3638 - val_accuracy: 0.8671\n",
      "Epoch 33/100\n",
      "60000/60000 [==============================] - 7s 117us/step - loss: 0.3784 - accuracy: 0.8581 - val_loss: 0.3615 - val_accuracy: 0.8667\n",
      "Epoch 34/100\n",
      "60000/60000 [==============================] - 7s 116us/step - loss: 0.3770 - accuracy: 0.8601 - val_loss: 0.3606 - val_accuracy: 0.8684\n",
      "Epoch 35/100\n",
      "60000/60000 [==============================] - 7s 118us/step - loss: 0.3762 - accuracy: 0.8588 - val_loss: 0.3598 - val_accuracy: 0.8677\n",
      "Epoch 36/100\n",
      "60000/60000 [==============================] - 7s 120us/step - loss: 0.3748 - accuracy: 0.8601 - val_loss: 0.3585 - val_accuracy: 0.8676\n",
      "Epoch 37/100\n",
      "60000/60000 [==============================] - 7s 115us/step - loss: 0.3720 - accuracy: 0.8614 - val_loss: 0.3575 - val_accuracy: 0.8680\n",
      "Epoch 38/100\n",
      "60000/60000 [==============================] - 7s 115us/step - loss: 0.3713 - accuracy: 0.8623 - val_loss: 0.3591 - val_accuracy: 0.8661\n",
      "Epoch 39/100\n",
      "60000/60000 [==============================] - 7s 117us/step - loss: 0.3712 - accuracy: 0.8611 - val_loss: 0.3552 - val_accuracy: 0.8692\n",
      "Epoch 40/100\n",
      "60000/60000 [==============================] - 7s 116us/step - loss: 0.3717 - accuracy: 0.8609 - val_loss: 0.3562 - val_accuracy: 0.8687\n",
      "Epoch 41/100\n",
      "60000/60000 [==============================] - 7s 120us/step - loss: 0.3700 - accuracy: 0.8619 - val_loss: 0.3540 - val_accuracy: 0.8711\n",
      "Epoch 42/100\n",
      "60000/60000 [==============================] - 7s 117us/step - loss: 0.3684 - accuracy: 0.8629 - val_loss: 0.3557 - val_accuracy: 0.8686\n",
      "Epoch 43/100\n",
      "60000/60000 [==============================] - 7s 117us/step - loss: 0.3694 - accuracy: 0.8630 - val_loss: 0.3554 - val_accuracy: 0.8691\n",
      "Epoch 44/100\n",
      "60000/60000 [==============================] - 7s 117us/step - loss: 0.3673 - accuracy: 0.8623 - val_loss: 0.3521 - val_accuracy: 0.8710\n",
      "Epoch 45/100\n",
      "60000/60000 [==============================] - 7s 118us/step - loss: 0.3654 - accuracy: 0.8634 - val_loss: 0.3524 - val_accuracy: 0.8710\n",
      "Epoch 46/100\n",
      "60000/60000 [==============================] - 7s 117us/step - loss: 0.3663 - accuracy: 0.8627 - val_loss: 0.3524 - val_accuracy: 0.8710\n",
      "Epoch 47/100\n",
      "60000/60000 [==============================] - 7s 118us/step - loss: 0.3638 - accuracy: 0.8646 - val_loss: 0.3524 - val_accuracy: 0.8697\n",
      "Epoch 48/100\n",
      "60000/60000 [==============================] - 7s 116us/step - loss: 0.3628 - accuracy: 0.8637 - val_loss: 0.3502 - val_accuracy: 0.8702\n",
      "Epoch 49/100\n",
      "60000/60000 [==============================] - 7s 118us/step - loss: 0.3670 - accuracy: 0.8636 - val_loss: 0.3499 - val_accuracy: 0.8711\n",
      "Epoch 50/100\n",
      "60000/60000 [==============================] - 7s 117us/step - loss: 0.3622 - accuracy: 0.8636 - val_loss: 0.3498 - val_accuracy: 0.8708\n",
      "Epoch 51/100\n",
      "60000/60000 [==============================] - 7s 118us/step - loss: 0.3609 - accuracy: 0.8656 - val_loss: 0.3516 - val_accuracy: 0.8698\n",
      "Epoch 52/100\n",
      "60000/60000 [==============================] - 7s 117us/step - loss: 0.3615 - accuracy: 0.8652 - val_loss: 0.3483 - val_accuracy: 0.8711\n",
      "Epoch 53/100\n",
      "60000/60000 [==============================] - 7s 118us/step - loss: 0.3605 - accuracy: 0.8654 - val_loss: 0.3470 - val_accuracy: 0.8708\n",
      "Epoch 54/100\n",
      "60000/60000 [==============================] - 7s 116us/step - loss: 0.3592 - accuracy: 0.8654 - val_loss: 0.3461 - val_accuracy: 0.8710\n",
      "Epoch 55/100\n"
     ]
    },
    {
     "name": "stdout",
     "output_type": "stream",
     "text": [
      "60000/60000 [==============================] - 7s 116us/step - loss: 0.3592 - accuracy: 0.8648 - val_loss: 0.3483 - val_accuracy: 0.8712\n",
      "Epoch 56/100\n",
      "60000/60000 [==============================] - 7s 116us/step - loss: 0.3572 - accuracy: 0.8663 - val_loss: 0.3463 - val_accuracy: 0.8716\n",
      "Epoch 57/100\n",
      "60000/60000 [==============================] - 7s 117us/step - loss: 0.3588 - accuracy: 0.8642 - val_loss: 0.3459 - val_accuracy: 0.8698\n",
      "Epoch 58/100\n",
      "60000/60000 [==============================] - 7s 116us/step - loss: 0.3572 - accuracy: 0.8657 - val_loss: 0.3440 - val_accuracy: 0.8703\n",
      "Epoch 59/100\n",
      "60000/60000 [==============================] - 7s 116us/step - loss: 0.3536 - accuracy: 0.8675 - val_loss: 0.3438 - val_accuracy: 0.8714\n",
      "Epoch 60/100\n",
      "60000/60000 [==============================] - 7s 117us/step - loss: 0.3587 - accuracy: 0.8648 - val_loss: 0.3431 - val_accuracy: 0.8720\n",
      "Epoch 61/100\n",
      "60000/60000 [==============================] - 7s 117us/step - loss: 0.3532 - accuracy: 0.8679 - val_loss: 0.3441 - val_accuracy: 0.8718\n",
      "Epoch 62/100\n",
      "60000/60000 [==============================] - 7s 118us/step - loss: 0.3535 - accuracy: 0.8666 - val_loss: 0.3435 - val_accuracy: 0.8719\n",
      "Epoch 63/100\n",
      "60000/60000 [==============================] - 7s 117us/step - loss: 0.3561 - accuracy: 0.8663 - val_loss: 0.3433 - val_accuracy: 0.8712\n",
      "Epoch 64/100\n",
      "60000/60000 [==============================] - 7s 114us/step - loss: 0.3523 - accuracy: 0.8679 - val_loss: 0.3430 - val_accuracy: 0.8731\n",
      "Epoch 65/100\n",
      "60000/60000 [==============================] - 7s 114us/step - loss: 0.3536 - accuracy: 0.8664 - val_loss: 0.3424 - val_accuracy: 0.8722\n",
      "Epoch 66/100\n",
      "60000/60000 [==============================] - 7s 119us/step - loss: 0.3515 - accuracy: 0.8693 - val_loss: 0.3409 - val_accuracy: 0.8724\n",
      "Epoch 67/100\n",
      "60000/60000 [==============================] - 7s 117us/step - loss: 0.3529 - accuracy: 0.8679 - val_loss: 0.3415 - val_accuracy: 0.8724\n",
      "Epoch 68/100\n",
      "60000/60000 [==============================] - 7s 116us/step - loss: 0.3509 - accuracy: 0.8680 - val_loss: 0.3438 - val_accuracy: 0.8722\n",
      "Epoch 69/100\n",
      "60000/60000 [==============================] - 7s 119us/step - loss: 0.3510 - accuracy: 0.8691 - val_loss: 0.3403 - val_accuracy: 0.8743\n",
      "Epoch 70/100\n",
      "60000/60000 [==============================] - 7s 118us/step - loss: 0.3511 - accuracy: 0.8687 - val_loss: 0.3405 - val_accuracy: 0.8728\n",
      "Epoch 71/100\n",
      "60000/60000 [==============================] - 7s 118us/step - loss: 0.3501 - accuracy: 0.8687 - val_loss: 0.3407 - val_accuracy: 0.8743\n",
      "Epoch 72/100\n",
      "60000/60000 [==============================] - 7s 116us/step - loss: 0.3499 - accuracy: 0.8680 - val_loss: 0.3396 - val_accuracy: 0.8727\n",
      "Epoch 73/100\n",
      "60000/60000 [==============================] - 7s 115us/step - loss: 0.3481 - accuracy: 0.8687 - val_loss: 0.3450 - val_accuracy: 0.8712\n",
      "Epoch 74/100\n",
      "60000/60000 [==============================] - 7s 119us/step - loss: 0.3487 - accuracy: 0.8700 - val_loss: 0.3380 - val_accuracy: 0.8739\n",
      "Epoch 75/100\n",
      "60000/60000 [==============================] - 7s 118us/step - loss: 0.3498 - accuracy: 0.8678 - val_loss: 0.3395 - val_accuracy: 0.8728\n",
      "Epoch 76/100\n",
      "60000/60000 [==============================] - 7s 118us/step - loss: 0.3483 - accuracy: 0.8690 - val_loss: 0.3398 - val_accuracy: 0.8731\n",
      "Epoch 77/100\n",
      "60000/60000 [==============================] - 7s 116us/step - loss: 0.3488 - accuracy: 0.8693 - val_loss: 0.3392 - val_accuracy: 0.8734\n",
      "Epoch 78/100\n",
      "60000/60000 [==============================] - 7s 118us/step - loss: 0.3468 - accuracy: 0.8698 - val_loss: 0.3379 - val_accuracy: 0.8738\n",
      "Epoch 79/100\n",
      "60000/60000 [==============================] - 7s 116us/step - loss: 0.3486 - accuracy: 0.8687 - val_loss: 0.3412 - val_accuracy: 0.8727\n",
      "Epoch 80/100\n",
      "60000/60000 [==============================] - 7s 117us/step - loss: 0.3479 - accuracy: 0.8699 - val_loss: 0.3365 - val_accuracy: 0.8743\n",
      "Epoch 81/100\n",
      "60000/60000 [==============================] - 7s 115us/step - loss: 0.3473 - accuracy: 0.8704 - val_loss: 0.3367 - val_accuracy: 0.8748\n",
      "Epoch 82/100\n",
      "60000/60000 [==============================] - 7s 117us/step - loss: 0.3464 - accuracy: 0.8698 - val_loss: 0.3369 - val_accuracy: 0.8747\n",
      "Epoch 83/100\n",
      "60000/60000 [==============================] - 7s 116us/step - loss: 0.3456 - accuracy: 0.8705 - val_loss: 0.3355 - val_accuracy: 0.8743\n",
      "Epoch 84/100\n",
      "60000/60000 [==============================] - 7s 118us/step - loss: 0.3433 - accuracy: 0.8713 - val_loss: 0.3367 - val_accuracy: 0.8733\n",
      "Epoch 85/100\n",
      "60000/60000 [==============================] - 7s 116us/step - loss: 0.3442 - accuracy: 0.8705 - val_loss: 0.3352 - val_accuracy: 0.8753\n",
      "Epoch 86/100\n",
      "60000/60000 [==============================] - 7s 118us/step - loss: 0.3450 - accuracy: 0.8702 - val_loss: 0.3360 - val_accuracy: 0.8758\n",
      "Epoch 87/100\n",
      "60000/60000 [==============================] - 7s 116us/step - loss: 0.3434 - accuracy: 0.8709 - val_loss: 0.3378 - val_accuracy: 0.8731\n",
      "Epoch 88/100\n",
      "60000/60000 [==============================] - 7s 118us/step - loss: 0.3447 - accuracy: 0.8711 - val_loss: 0.3344 - val_accuracy: 0.8757\n",
      "Epoch 89/100\n",
      "60000/60000 [==============================] - 7s 117us/step - loss: 0.3430 - accuracy: 0.8709 - val_loss: 0.3341 - val_accuracy: 0.8751\n",
      "Epoch 90/100\n",
      "60000/60000 [==============================] - 7s 117us/step - loss: 0.3430 - accuracy: 0.8716 - val_loss: 0.3342 - val_accuracy: 0.8750\n",
      "Epoch 91/100\n",
      "60000/60000 [==============================] - 7s 115us/step - loss: 0.3428 - accuracy: 0.8714 - val_loss: 0.3335 - val_accuracy: 0.8758\n",
      "Epoch 92/100\n",
      "60000/60000 [==============================] - 7s 118us/step - loss: 0.3409 - accuracy: 0.8723 - val_loss: 0.3316 - val_accuracy: 0.8768\n",
      "Epoch 93/100\n",
      "60000/60000 [==============================] - 7s 117us/step - loss: 0.3413 - accuracy: 0.8715 - val_loss: 0.3327 - val_accuracy: 0.8753\n",
      "Epoch 94/100\n",
      "60000/60000 [==============================] - 7s 114us/step - loss: 0.3414 - accuracy: 0.8711 - val_loss: 0.3329 - val_accuracy: 0.8759\n",
      "Epoch 95/100\n",
      "60000/60000 [==============================] - 7s 118us/step - loss: 0.3416 - accuracy: 0.8716 - val_loss: 0.3317 - val_accuracy: 0.8773\n",
      "Epoch 96/100\n",
      "60000/60000 [==============================] - 7s 119us/step - loss: 0.3375 - accuracy: 0.8723 - val_loss: 0.3330 - val_accuracy: 0.8769\n",
      "Epoch 97/100\n",
      "60000/60000 [==============================] - 7s 118us/step - loss: 0.3380 - accuracy: 0.8721 - val_loss: 0.3322 - val_accuracy: 0.8790\n",
      "Epoch 00097: early stopping\n"
     ]
    }
   ],
   "source": [
    "history = model.fit(final_train_images, train_final_labels,validation_data=(X_test, Y_test),\n",
    "                       epochs=epochs, batch_size=batch_size, verbose=1,\n",
    "                       callbacks=[EarlyStopping(monitor='val_loss', min_delta=0, patience=5, verbose=1, mode='auto')])"
   ]
  },
  {
   "cell_type": "code",
   "execution_count": 10,
   "metadata": {},
   "outputs": [
    {
     "name": "stdout",
     "output_type": "stream",
     "text": [
      "Test loss: 0.3321651181777318 / Test accuracy: 0.8790000081062317\n"
     ]
    }
   ],
   "source": [
    "score = model.evaluate(X_test, Y_test, verbose=0)\n",
    "print(f'Test loss: {score[0]} / Test accuracy: {score[1]}')"
   ]
  },
  {
   "cell_type": "code",
   "execution_count": 17,
   "metadata": {},
   "outputs": [
    {
     "name": "stdout",
     "output_type": "stream",
     "text": [
      "Test loss: 0.3256914761066437 / Test accuracy: 0.8740000128746033\n"
     ]
    }
   ],
   "source": [
    "score = model.evaluate(X_val, Y_val, verbose=0)\n",
    "print(f'Test loss: {score[0]} / Test accuracy: {score[1]}')"
   ]
  },
  {
   "cell_type": "code",
   "execution_count": 18,
   "metadata": {},
   "outputs": [],
   "source": [
    "model.save('mnist_fashion_adagrad_cnn.h5')"
   ]
  }
 ],
 "metadata": {
  "kernelspec": {
   "display_name": "Python 3",
   "language": "python",
   "name": "python3"
  },
  "language_info": {
   "codemirror_mode": {
    "name": "ipython",
    "version": 3
   },
   "file_extension": ".py",
   "mimetype": "text/x-python",
   "name": "python",
   "nbconvert_exporter": "python",
   "pygments_lexer": "ipython3",
   "version": "3.6.9"
  }
 },
 "nbformat": 4,
 "nbformat_minor": 4
}
