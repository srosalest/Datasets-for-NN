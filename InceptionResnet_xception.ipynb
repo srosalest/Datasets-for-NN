{
 "cells": [
  {
   "cell_type": "code",
   "execution_count": 1,
   "metadata": {},
   "outputs": [
    {
     "name": "stderr",
     "output_type": "stream",
     "text": [
      "Using TensorFlow backend.\n"
     ]
    }
   ],
   "source": [
    "import tensorflow as tf\n",
    "import numpy as np\n",
    "import pandas as pd\n",
    "import os\n",
    "from tensorflow import keras\n",
    "from keras.models import Sequential\n",
    "from keras.layers import Conv2D\n",
    "from keras.layers import MaxPooling2D\n",
    "from keras.layers import Flatten\n",
    "from keras.layers import Dense\n",
    "from keras.layers import Activation\n",
    "from keras.layers import Dropout\n",
    "from keras.layers import BatchNormalization\n",
    "from keras.preprocessing.image import ImageDataGenerator, array_to_img, img_to_array, load_img\n",
    "from sklearn.model_selection import train_test_split\n",
    "from sklearn.metrics import classification_report\n",
    "\n",
    "import cv2\n",
    "from matplotlib import pyplot as plt\n",
    "import matplotlib.image as mpimg\n",
    "\n",
    "from keras.applications.xception import Xception\n",
    "from keras.applications.vgg16 import VGG16\n",
    "from keras.applications.inception_resnet_v2 import InceptionResNetV2\n",
    "from keras.models import Model\n",
    "from keras.callbacks import EarlyStopping\n",
    "from sklearn.metrics import classification_report\n",
    "from keras.models import load_model"
   ]
  },
  {
   "cell_type": "code",
   "execution_count": 2,
   "metadata": {},
   "outputs": [],
   "source": [
    "#file paths\n",
    "dataset_path = 'storage/SebastianRosales/Trashnet/dataset/dataset-resized'\n",
    "dataset_classes = ['cardboard','glass','metal','paper','plastic','trash']\n",
    "dataset_classes_encoded = [0,1,2,3,4,5]"
   ]
  },
  {
   "cell_type": "code",
   "execution_count": 3,
   "metadata": {},
   "outputs": [],
   "source": [
    "#image convertiong to rgb array\n",
    "def convert(image_path, label):\n",
    "    image = img_to_array(load_img(image_path, target_size=[299, 299]))\n",
    "    image = image * float(1/255.0) #pre-process.\n",
    "    return image, label\n",
    "\n",
    "def convert_inverted(image_path, label):\n",
    "    image = img_to_array(load_img(image_path, target_size=[299, 299]))\n",
    "    image = cv2.bitwise_not(image)\n",
    "    image = image * float(1/255.0) #pre-process.\n",
    "    return image, label\n",
    "\n",
    "def convert_flipped(image_path, label):\n",
    "    image = img_to_array(load_img(image_path, target_size=[299, 299]))\n",
    "    image = cv2.flip(image, -1)\n",
    "    image = image * float(1/255.0) #pre-process.\n",
    "    return image, label\n",
    "\n",
    "def convert_flipped_inverted(image_path, label):\n",
    "    image = img_to_array(load_img(image_path, target_size=[299, 299]))\n",
    "    image = cv2.bitwise_not(image)\n",
    "    image = cv2.flip(image, -1)\n",
    "    image = image * float(1/255.0) #pre-process.\n",
    "    return image, label\n",
    "\n",
    "#read the data and pre-process it\n",
    "def read_data(data_path, dataset_classes,dataset_classes_encoded):\n",
    "\n",
    "    training_labels = tf.keras.utils.to_categorical(dataset_classes_encoded, num_classes = 6)\n",
    "\n",
    "    labels = []\n",
    "    data = []\n",
    "    \n",
    "    for each_class in dataset_classes:\n",
    "        directory = data_path + '/' + each_class\n",
    "        for filename in os.listdir(directory):\n",
    "            if filename.endswith('.jpg'):\n",
    "                label = training_labels[dataset_classes.index(each_class)]\n",
    "                aux_1, aux_2 = convert(directory + '/'+ filename,label)\n",
    "                labels.append(aux_2)\n",
    "                data.append(aux_1)\n",
    "                #aux_3, aux_4 = convert_inverted(directory + '/'+ filename,label)\n",
    "                #labels.append(aux_4)\n",
    "                #data.append(aux_3)\n",
    "                aux_5, aux_6 = convert_flipped(directory + '/'+ filename,label)\n",
    "                labels.append(aux_6)\n",
    "                data.append(aux_5)\n",
    "                aux_7, aux_8 = convert_flipped_inverted(directory + '/'+ filename,label)\n",
    "                labels.append(aux_8)\n",
    "                data.append(aux_7)\n",
    "    \n",
    "    labels = np.asarray(labels) \n",
    "    data = np.asarray(data)\n",
    "    return data, labels"
   ]
  },
  {
   "cell_type": "code",
   "execution_count": 4,
   "metadata": {},
   "outputs": [],
   "source": [
    "inputs, labels = read_data(dataset_path, dataset_classes, dataset_classes_encoded)"
   ]
  },
  {
   "cell_type": "code",
   "execution_count": 5,
   "metadata": {},
   "outputs": [],
   "source": [
    "epochs = 100\n",
    "batch_size = 32\n",
    "X_train, X_dummy, Y_train, Y_dummy = train_test_split(inputs, labels, test_size = 0.3, random_state = 2)"
   ]
  },
  {
   "cell_type": "code",
   "execution_count": 6,
   "metadata": {},
   "outputs": [],
   "source": [
    "X_test, X_val, Y_test, Y_val = train_test_split(X_dummy, Y_dummy, test_size = 0.4, random_state = 2)"
   ]
  },
  {
   "cell_type": "code",
   "execution_count": 7,
   "metadata": {},
   "outputs": [],
   "source": [
    "input_shape = inputs[0].shape\n",
    "output_class = 6"
   ]
  },
  {
   "cell_type": "code",
   "execution_count": 8,
   "metadata": {
    "scrolled": true
   },
   "outputs": [],
   "source": [
    "model = InceptionResNetV2(weights='imagenet')\n",
    "model.layers.pop()\n",
    "model = Model(inputs=model.inputs, outputs=model.layers[-1].output)\n",
    "    \n",
    "#model.summary()"
   ]
  },
  {
   "cell_type": "code",
   "execution_count": 9,
   "metadata": {},
   "outputs": [],
   "source": [
    "new_input_data = model.predict(X_train)\n",
    "new_input_data_test = model.predict(X_test)"
   ]
  },
  {
   "cell_type": "code",
   "execution_count": 34,
   "metadata": {},
   "outputs": [
    {
     "name": "stdout",
     "output_type": "stream",
     "text": [
      "Model: \"sequential_9\"\n",
      "_________________________________________________________________\n",
      "Layer (type)                 Output Shape              Param #   \n",
      "=================================================================\n",
      "dense_31 (Dense)             (None, 5306)              8155322   \n",
      "_________________________________________________________________\n",
      "dense_32 (Dense)             (None, 48)                254736    \n",
      "_________________________________________________________________\n",
      "dense_33 (Dense)             (None, 12)                588       \n",
      "_________________________________________________________________\n",
      "dense_34 (Dense)             (None, 6)                 78        \n",
      "=================================================================\n",
      "Total params: 8,410,724\n",
      "Trainable params: 8,410,724\n",
      "Non-trainable params: 0\n",
      "_________________________________________________________________\n"
     ]
    }
   ],
   "source": [
    "model_from_scratch = Sequential()\n",
    "model_from_scratch.add(Dense(new_input_data.shape[0], input_dim=new_input_data.shape[1], activation='relu'))\n",
    "model_from_scratch.add(Dense(48, activation='relu'))\n",
    "model_from_scratch.add(Dense(12, activation='relu'))\n",
    "model_from_scratch.add(Dense(output_class, activation='softmax'))\n",
    "model_from_scratch.summary()"
   ]
  },
  {
   "cell_type": "code",
   "execution_count": 35,
   "metadata": {},
   "outputs": [],
   "source": [
    "model_from_scratch.compile(optimizer='adadelta', loss='categorical_crossentropy', metrics=['accuracy'])"
   ]
  },
  {
   "cell_type": "code",
   "execution_count": 36,
   "metadata": {
    "scrolled": false
   },
   "outputs": [
    {
     "name": "stdout",
     "output_type": "stream",
     "text": [
      "Train on 5306 samples, validate on 1365 samples\n",
      "Epoch 1/100\n",
      "5306/5306 [==============================] - 2s 374us/step - loss: 1.4060 - accuracy: 0.4361 - val_loss: 1.1676 - val_accuracy: 0.5590\n",
      "Epoch 2/100\n",
      "5306/5306 [==============================] - 2s 344us/step - loss: 0.9875 - accuracy: 0.6221 - val_loss: 0.9297 - val_accuracy: 0.6447\n",
      "Epoch 3/100\n",
      "5306/5306 [==============================] - 2s 345us/step - loss: 0.8760 - accuracy: 0.6530 - val_loss: 0.8907 - val_accuracy: 0.6454\n",
      "Epoch 4/100\n",
      "5306/5306 [==============================] - 2s 346us/step - loss: 0.8182 - accuracy: 0.6766 - val_loss: 0.9745 - val_accuracy: 0.6615\n",
      "Epoch 5/100\n",
      "5306/5306 [==============================] - 2s 350us/step - loss: 0.7563 - accuracy: 0.7051 - val_loss: 0.8338 - val_accuracy: 0.6696\n",
      "Epoch 6/100\n",
      "5306/5306 [==============================] - 2s 345us/step - loss: 0.7113 - accuracy: 0.7147 - val_loss: 0.8385 - val_accuracy: 0.6637\n",
      "Epoch 7/100\n",
      "5306/5306 [==============================] - 2s 340us/step - loss: 0.6666 - accuracy: 0.7375 - val_loss: 0.7979 - val_accuracy: 0.6930\n",
      "Epoch 8/100\n",
      "5306/5306 [==============================] - 2s 344us/step - loss: 0.6354 - accuracy: 0.7467 - val_loss: 0.9045 - val_accuracy: 0.6850\n",
      "Epoch 9/100\n",
      "5306/5306 [==============================] - 2s 342us/step - loss: 0.6299 - accuracy: 0.7471 - val_loss: 0.7136 - val_accuracy: 0.7136\n",
      "Epoch 10/100\n",
      "5306/5306 [==============================] - 2s 341us/step - loss: 0.6038 - accuracy: 0.7546 - val_loss: 0.7333 - val_accuracy: 0.6982\n",
      "Epoch 11/100\n",
      "5306/5306 [==============================] - 2s 347us/step - loss: 0.5785 - accuracy: 0.7659 - val_loss: 0.7514 - val_accuracy: 0.7201\n",
      "Epoch 12/100\n",
      "5306/5306 [==============================] - 2s 342us/step - loss: 0.5545 - accuracy: 0.7789 - val_loss: 0.6799 - val_accuracy: 0.7231\n",
      "Epoch 13/100\n",
      "5306/5306 [==============================] - 2s 340us/step - loss: 0.5432 - accuracy: 0.7780 - val_loss: 0.8197 - val_accuracy: 0.7033\n",
      "Epoch 14/100\n",
      "5306/5306 [==============================] - 2s 341us/step - loss: 0.5332 - accuracy: 0.7797 - val_loss: 0.8078 - val_accuracy: 0.6938\n",
      "Epoch 15/100\n",
      "5306/5306 [==============================] - 2s 345us/step - loss: 0.5176 - accuracy: 0.7897 - val_loss: 0.6883 - val_accuracy: 0.7363\n",
      "Epoch 16/100\n",
      "5306/5306 [==============================] - 2s 346us/step - loss: 0.5019 - accuracy: 0.7972 - val_loss: 0.6818 - val_accuracy: 0.7363\n",
      "Epoch 17/100\n",
      "5306/5306 [==============================] - 2s 346us/step - loss: 0.4847 - accuracy: 0.8049 - val_loss: 0.6825 - val_accuracy: 0.7480\n",
      "Epoch 18/100\n",
      "5306/5306 [==============================] - 2s 343us/step - loss: 0.4886 - accuracy: 0.8038 - val_loss: 0.7118 - val_accuracy: 0.7289\n",
      "Epoch 19/100\n",
      "5306/5306 [==============================] - 2s 342us/step - loss: 0.4841 - accuracy: 0.8019 - val_loss: 0.7148 - val_accuracy: 0.7399\n",
      "Epoch 20/100\n",
      "5306/5306 [==============================] - 2s 346us/step - loss: 0.4835 - accuracy: 0.8117 - val_loss: 0.8249 - val_accuracy: 0.7231\n",
      "Epoch 21/100\n",
      "5306/5306 [==============================] - 2s 348us/step - loss: 0.4678 - accuracy: 0.8104 - val_loss: 0.7321 - val_accuracy: 0.7436\n",
      "Epoch 22/100\n",
      "5306/5306 [==============================] - 2s 345us/step - loss: 0.4641 - accuracy: 0.8155 - val_loss: 0.7324 - val_accuracy: 0.7465\n",
      "Epoch 00022: early stopping\n"
     ]
    }
   ],
   "source": [
    "history = model_from_scratch.fit(new_input_data, Y_train,validation_data=(new_input_data_test, Y_test),\n",
    "                       epochs=epochs, batch_size=batch_size, verbose=1,\n",
    "                       callbacks=[EarlyStopping(monitor='val_loss', min_delta=0, patience=10, verbose=1, mode='auto')])"
   ]
  },
  {
   "cell_type": "code",
   "execution_count": 37,
   "metadata": {},
   "outputs": [
    {
     "name": "stdout",
     "output_type": "stream",
     "text": [
      "Test loss: 0.7324491916122017 / Test accuracy: 0.7465201616287231\n"
     ]
    }
   ],
   "source": [
    "score = model_from_scratch.evaluate(new_input_data_test, Y_test, verbose=0)\n",
    "print(f'Test loss: {score[0]} / Test accuracy: {score[1]}')"
   ]
  },
  {
   "cell_type": "code",
   "execution_count": 38,
   "metadata": {},
   "outputs": [],
   "source": [
    "validation = model.predict(X_val)"
   ]
  },
  {
   "cell_type": "code",
   "execution_count": 39,
   "metadata": {},
   "outputs": [
    {
     "name": "stdout",
     "output_type": "stream",
     "text": [
      "Validation loss: 0.739300557414254 / Validation accuracy: 0.7351648211479187\n"
     ]
    }
   ],
   "source": [
    "score = model_from_scratch.evaluate(validation, Y_val, verbose=0)\n",
    "print(f'Validation loss: {score[0]} / Validation accuracy: {score[1]}')"
   ]
  },
  {
   "cell_type": "code",
   "execution_count": 40,
   "metadata": {},
   "outputs": [],
   "source": [
    "model_from_scratch.save('Thrasnet-InceptionResNetV2_adadelta.h5')"
   ]
  },
  {
   "cell_type": "markdown",
   "metadata": {},
   "source": [
    "# xception below"
   ]
  },
  {
   "cell_type": "code",
   "execution_count": 41,
   "metadata": {},
   "outputs": [],
   "source": [
    "model = Xception(weights='imagenet')\n",
    "model.layers.pop()\n",
    "model = Model(inputs=model.inputs, outputs=model.layers[-1].output)\n",
    "\n",
    "#model.summary()"
   ]
  },
  {
   "cell_type": "code",
   "execution_count": 42,
   "metadata": {},
   "outputs": [],
   "source": [
    "new_input_data = model.predict(X_train)\n",
    "new_input_data_test = model.predict(X_test)"
   ]
  },
  {
   "cell_type": "code",
   "execution_count": 43,
   "metadata": {},
   "outputs": [],
   "source": [
    "model_from_scratch = Sequential()\n",
    "model_from_scratch.add(Dense(new_input_data.shape[0], input_dim=new_input_data.shape[1], activation='relu'))\n",
    "model_from_scratch.add(Dense(48, activation='relu'))\n",
    "model_from_scratch.add(Dense(12, activation='relu'))\n",
    "model_from_scratch.add(Dense(output_class, activation='softmax'))\n",
    "#model_from_scratch.summary()"
   ]
  },
  {
   "cell_type": "code",
   "execution_count": 44,
   "metadata": {},
   "outputs": [],
   "source": [
    "model_from_scratch.compile(optimizer='adadelta', loss='categorical_crossentropy', metrics=['accuracy'])"
   ]
  },
  {
   "cell_type": "code",
   "execution_count": 45,
   "metadata": {
    "scrolled": true
   },
   "outputs": [
    {
     "name": "stdout",
     "output_type": "stream",
     "text": [
      "Train on 5306 samples, validate on 1365 samples\n",
      "Epoch 1/100\n",
      "5306/5306 [==============================] - 2s 458us/step - loss: 1.0985 - accuracy: 0.5754 - val_loss: 0.9090 - val_accuracy: 0.6381\n",
      "Epoch 2/100\n",
      "5306/5306 [==============================] - 2s 412us/step - loss: 0.7900 - accuracy: 0.6937 - val_loss: 0.9157 - val_accuracy: 0.6381\n",
      "Epoch 3/100\n",
      "5306/5306 [==============================] - 2s 414us/step - loss: 0.6842 - accuracy: 0.7314 - val_loss: 0.7687 - val_accuracy: 0.6960\n",
      "Epoch 4/100\n",
      "5306/5306 [==============================] - 2s 412us/step - loss: 0.6049 - accuracy: 0.7605 - val_loss: 0.7733 - val_accuracy: 0.7048\n",
      "Epoch 5/100\n",
      "5306/5306 [==============================] - 2s 420us/step - loss: 0.5555 - accuracy: 0.7787 - val_loss: 0.7148 - val_accuracy: 0.7319\n",
      "Epoch 6/100\n",
      "5306/5306 [==============================] - 2s 417us/step - loss: 0.5167 - accuracy: 0.7910 - val_loss: 0.7484 - val_accuracy: 0.7143\n",
      "Epoch 7/100\n",
      "5306/5306 [==============================] - 2s 414us/step - loss: 0.4880 - accuracy: 0.8061 - val_loss: 0.7730 - val_accuracy: 0.7187\n",
      "Epoch 8/100\n",
      "5306/5306 [==============================] - 2s 408us/step - loss: 0.4682 - accuracy: 0.8129 - val_loss: 0.8394 - val_accuracy: 0.7238\n",
      "Epoch 9/100\n",
      "5306/5306 [==============================] - 2s 419us/step - loss: 0.4606 - accuracy: 0.8142 - val_loss: 0.7901 - val_accuracy: 0.7267\n",
      "Epoch 10/100\n",
      "5306/5306 [==============================] - 2s 413us/step - loss: 0.4405 - accuracy: 0.8247 - val_loss: 0.8464 - val_accuracy: 0.7223\n",
      "Epoch 11/100\n",
      "5306/5306 [==============================] - 2s 409us/step - loss: 0.4269 - accuracy: 0.8276 - val_loss: 0.8487 - val_accuracy: 0.7377\n",
      "Epoch 12/100\n",
      "5306/5306 [==============================] - 2s 412us/step - loss: 0.4234 - accuracy: 0.8296 - val_loss: 0.8331 - val_accuracy: 0.7399\n",
      "Epoch 13/100\n",
      "5306/5306 [==============================] - 2s 411us/step - loss: 0.4080 - accuracy: 0.8326 - val_loss: 0.8058 - val_accuracy: 0.7480\n",
      "Epoch 14/100\n",
      "5306/5306 [==============================] - 2s 416us/step - loss: 0.4015 - accuracy: 0.8364 - val_loss: 0.8381 - val_accuracy: 0.7319\n",
      "Epoch 15/100\n",
      "5306/5306 [==============================] - 2s 415us/step - loss: 0.3988 - accuracy: 0.8430 - val_loss: 0.8542 - val_accuracy: 0.7443\n",
      "Epoch 00015: early stopping\n"
     ]
    }
   ],
   "source": [
    "history = model_from_scratch.fit(new_input_data, Y_train,validation_data=(new_input_data_test, Y_test),\n",
    "                       epochs=epochs, batch_size=batch_size, verbose=1,\n",
    "                       callbacks=[EarlyStopping(monitor='val_loss', min_delta=0, patience=10, verbose=1, mode='auto')])"
   ]
  },
  {
   "cell_type": "code",
   "execution_count": 46,
   "metadata": {},
   "outputs": [
    {
     "name": "stdout",
     "output_type": "stream",
     "text": [
      "Test loss: 0.8541932220424051 / Test accuracy: 0.7443223595619202\n"
     ]
    }
   ],
   "source": [
    "score = model_from_scratch.evaluate(new_input_data_test, Y_test, verbose=0)\n",
    "print(f'Test loss: {score[0]} / Test accuracy: {score[1]}')"
   ]
  },
  {
   "cell_type": "code",
   "execution_count": 47,
   "metadata": {},
   "outputs": [],
   "source": [
    "validation = model.predict(X_val)"
   ]
  },
  {
   "cell_type": "code",
   "execution_count": 48,
   "metadata": {},
   "outputs": [
    {
     "name": "stdout",
     "output_type": "stream",
     "text": [
      "Validation loss: 0.7915817332791758 / Validation accuracy: 0.7615384459495544\n"
     ]
    }
   ],
   "source": [
    "score = model_from_scratch.evaluate(validation, Y_val, verbose=0)\n",
    "print(f'Validation loss: {score[0]} / Validation accuracy: {score[1]}')"
   ]
  },
  {
   "cell_type": "code",
   "execution_count": 49,
   "metadata": {},
   "outputs": [],
   "source": [
    "model_from_scratch.save('Thrasnet-xception_adadelta.h5')"
   ]
  },
  {
   "cell_type": "code",
   "execution_count": null,
   "metadata": {},
   "outputs": [],
   "source": []
  }
 ],
 "metadata": {
  "kernelspec": {
   "display_name": "Python 3",
   "language": "python",
   "name": "python3"
  },
  "language_info": {
   "codemirror_mode": {
    "name": "ipython",
    "version": 3
   },
   "file_extension": ".py",
   "mimetype": "text/x-python",
   "name": "python",
   "nbconvert_exporter": "python",
   "pygments_lexer": "ipython3",
   "version": "3.6.9"
  }
 },
 "nbformat": 4,
 "nbformat_minor": 4
}
